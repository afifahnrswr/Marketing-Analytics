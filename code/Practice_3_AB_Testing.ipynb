{
 "cells": [
  {
   "cell_type": "markdown",
   "metadata": {
    "colab_type": "text",
    "id": "-TQP7e97K1SY"
   },
   "source": [
    "# A/B TESTING\n",
    "\n",
    ">*A/B Testing* atau juga dikenal sebagai *Split Testing* atau *Bucket Testing* merupakan metode yang digunakan sebagai metode yang membandingkan dua versi halaman web atau aplikasi untuk menentukan web atau aplikasi mana yang berkinerja lebih baik. *A/B Testing* pada dasarnya adalah percobaan di mana dua atau lebih varian halaman ditampilkan kepada pengguna secara acak, dan analisis statistik digunakan untuk menentukan variasi mana yang berkinerja lebih baik untuk sasaran konversi yang diberikan.\n",
    "<br>\n",
    "\n",
    ">**Proses *A/B Testing Analysis*** <br>\n",
    "Berikut ini adalah kerangka kerja pengujian A / B yang dapat Anda gunakan untuk mulai menjalankan tes:\n",
    "<br>\n",
    "1. *Kumpulkan Data* <br>\n",
    "2. *Identifikasi Sasaran* <br>\n",
    "3. *Hasilkan Hipotesis* <br>\n",
    "4. *Buat Variasi* <br>\n",
    "5. *Jalankan Eksperimen* \n",
    "6. *Menganalisis Hasil* <br>\n",
    "![Capture](AB.jpg)\n",
    "<br>\n",
    "<br>\n",
    "Data yang akan digunakan dalam mengaplikasikan *A/B Testing* merupakan data e-commerce dimana terdapat dua kelompok pengguna, diantaranya yaitu *\"Control Group\"* dan *\"Treatement Group\"*. Kedua kelompok masing-masing dihadapkan pada tampilan web yang berbeda. Pada pengguna *Control Group* dihadapkan pada *old page* (tampilan web lama), sedangkan pada pengguna *Treatement Group* dihadapkan pada  *new page* (tampilan web baru). Untuk lebih jelasnya, dapat dilihat berdasarkan skema data yang akan digunakan sebagai berikut.\n",
    "![Capture](AB1.jpg)\n",
    "\n",
    "## Tujuan \n",
    ">*A/B Testing* yang akan dilakukan yaitu bertujuan untuk membantu perusahaan memahami apakah perusahaan harus mengimplementasikan *website* dengan menggunakan tampilan yang baru, mempertahankan tampilan web yang lama, atau mungkin menjalankan eksperimen lebih lama untuk membuat keputusan. \n",
    "<br>\n",
    "\n",
    "## Outline\n",
    "<ul>\n",
    "<li><a href=\"#install\">Install Package</a></li>\n",
    "<li><a href=\"#wrangling\">Data Wrangling</a></li>\n",
    "<li><a href=\"#probability\">Probabilitas</a></li>\n",
    "<li><a href=\"#abtesting\">AnalisisAB Testing </a></li>\n",
    "<li><a href=\"#Kesimpulan\"> Kesimpulan</a></li>\n",
    "</ul>\n",
    "***"
   ]
  },
  {
   "cell_type": "markdown",
   "metadata": {
    "colab_type": "text",
    "id": "vVqJS1cNOYCj"
   },
   "source": [
    "<a id='install'></a>\n",
    "## 1. Install Package"
   ]
  },
  {
   "cell_type": "code",
   "execution_count": 8,
   "metadata": {
    "colab": {},
    "colab_type": "code",
    "id": "mvuradmJAg9j"
   },
   "outputs": [],
   "source": [
    "import pandas as pd\n",
    "import numpy as np\n",
    "import random\n",
    "import matplotlib.pyplot as plt\n",
    "%matplotlib inline\n",
    "from sklearn.linear_model import LogisticRegression\n",
    "from sklearn.metrics import confusion_matrix, precision_score, recall_score, accuracy_score\n",
    "from sklearn.model_selection import train_test_split\n",
    "import statsmodels.api as sm\n",
    "from scipy.stats import norm\n",
    "from IPython.display import Image"
   ]
  },
  {
   "cell_type": "markdown",
   "metadata": {
    "colab_type": "text",
    "id": "4UVhWzYIRSLw"
   },
   "source": [
    "<a id='wrangling'></a>\n",
    "## 2. Data Wrangling\n",
    "> Sebelum melakukan analisis lebih lanjut, maka perlu dilakukan wrangling data guna memahami data yang akan digunakan."
   ]
  },
  {
   "cell_type": "code",
   "execution_count": 9,
   "metadata": {
    "colab": {
     "base_uri": "https://localhost:8080/",
     "height": 204
    },
    "colab_type": "code",
    "id": "Eu-K8ftoQV20",
    "outputId": "c32497b9-afc3-4936-a96d-8decce1b7fd4"
   },
   "outputs": [
    {
     "data": {
      "text/html": [
       "<div>\n",
       "<style scoped>\n",
       "    .dataframe tbody tr th:only-of-type {\n",
       "        vertical-align: middle;\n",
       "    }\n",
       "\n",
       "    .dataframe tbody tr th {\n",
       "        vertical-align: top;\n",
       "    }\n",
       "\n",
       "    .dataframe thead th {\n",
       "        text-align: right;\n",
       "    }\n",
       "</style>\n",
       "<table border=\"1\" class=\"dataframe\">\n",
       "  <thead>\n",
       "    <tr style=\"text-align: right;\">\n",
       "      <th></th>\n",
       "      <th>user_id</th>\n",
       "      <th>timestamp</th>\n",
       "      <th>group</th>\n",
       "      <th>landing_page</th>\n",
       "      <th>converted</th>\n",
       "    </tr>\n",
       "  </thead>\n",
       "  <tbody>\n",
       "    <tr>\n",
       "      <th>0</th>\n",
       "      <td>851104</td>\n",
       "      <td>2017-01-21 22:11:48.556739</td>\n",
       "      <td>control</td>\n",
       "      <td>old_page</td>\n",
       "      <td>0</td>\n",
       "    </tr>\n",
       "    <tr>\n",
       "      <th>1</th>\n",
       "      <td>804228</td>\n",
       "      <td>2017-01-12 08:01:45.159739</td>\n",
       "      <td>control</td>\n",
       "      <td>old_page</td>\n",
       "      <td>0</td>\n",
       "    </tr>\n",
       "    <tr>\n",
       "      <th>2</th>\n",
       "      <td>661590</td>\n",
       "      <td>2017-01-11 16:55:06.154213</td>\n",
       "      <td>treatment</td>\n",
       "      <td>new_page</td>\n",
       "      <td>0</td>\n",
       "    </tr>\n",
       "    <tr>\n",
       "      <th>3</th>\n",
       "      <td>853541</td>\n",
       "      <td>2017-01-08 18:28:03.143765</td>\n",
       "      <td>treatment</td>\n",
       "      <td>new_page</td>\n",
       "      <td>0</td>\n",
       "    </tr>\n",
       "    <tr>\n",
       "      <th>4</th>\n",
       "      <td>864975</td>\n",
       "      <td>2017-01-21 01:52:26.210827</td>\n",
       "      <td>control</td>\n",
       "      <td>old_page</td>\n",
       "      <td>1</td>\n",
       "    </tr>\n",
       "  </tbody>\n",
       "</table>\n",
       "</div>"
      ],
      "text/plain": [
       "   user_id                   timestamp      group landing_page  converted\n",
       "0   851104  2017-01-21 22:11:48.556739    control     old_page          0\n",
       "1   804228  2017-01-12 08:01:45.159739    control     old_page          0\n",
       "2   661590  2017-01-11 16:55:06.154213  treatment     new_page          0\n",
       "3   853541  2017-01-08 18:28:03.143765  treatment     new_page          0\n",
       "4   864975  2017-01-21 01:52:26.210827    control     old_page          1"
      ]
     },
     "execution_count": 9,
     "metadata": {},
     "output_type": "execute_result"
    }
   ],
   "source": [
    "# Load Data & Memunculkan 5 Data Teratas \n",
    "df=pd.read_csv('D:/Python/Machine Learning/5. Association/Marketing Analytics/data/ab_data.csv')\n",
    "df.head()"
   ]
  },
  {
   "cell_type": "code",
   "execution_count": 10,
   "metadata": {
    "colab": {
     "base_uri": "https://localhost:8080/",
     "height": 34
    },
    "colab_type": "code",
    "id": "v_HJvagYTU22",
    "outputId": "b4ed0bc1-21a1-4e42-dfd4-a5d5957ce536"
   },
   "outputs": [
    {
     "data": {
      "text/plain": [
       "290584"
      ]
     },
     "execution_count": 10,
     "metadata": {},
     "output_type": "execute_result"
    }
   ],
   "source": [
    "df['user_id'].nunique()"
   ]
  },
  {
   "cell_type": "code",
   "execution_count": 11,
   "metadata": {
    "colab": {
     "base_uri": "https://localhost:8080/",
     "height": 34
    },
    "colab_type": "code",
    "id": "J5hFc7A8QWZI",
    "outputId": "b64adf2b-3916-4b66-9a0a-55e72bc0abc7"
   },
   "outputs": [
    {
     "data": {
      "text/plain": [
       "0.11965919355605512"
      ]
     },
     "execution_count": 11,
     "metadata": {},
     "output_type": "execute_result"
    }
   ],
   "source": [
    "df.converted.mean()"
   ]
  },
  {
   "cell_type": "code",
   "execution_count": 12,
   "metadata": {
    "colab": {
     "base_uri": "https://localhost:8080/",
     "height": 119
    },
    "colab_type": "code",
    "id": "5Ao56I7YTpRO",
    "outputId": "1349facc-b9a7-4992-dcb1-8c90fe6f3d5b"
   },
   "outputs": [
    {
     "data": {
      "text/plain": [
       "user_id         3893\n",
       "timestamp       3893\n",
       "group           3893\n",
       "landing_page    3893\n",
       "converted       3893\n",
       "dtype: int64"
      ]
     },
     "execution_count": 12,
     "metadata": {},
     "output_type": "execute_result"
    }
   ],
   "source": [
    "df[((df['group'] == 'treatment') == (df['landing_page'] == 'new_page')) == False].count()"
   ]
  },
  {
   "cell_type": "code",
   "execution_count": 13,
   "metadata": {
    "colab": {
     "base_uri": "https://localhost:8080/",
     "height": 187
    },
    "colab_type": "code",
    "id": "r0_wC-yBIWts",
    "outputId": "9f4164a5-55c1-4c54-f7dc-79c2cba423c1"
   },
   "outputs": [
    {
     "name": "stdout",
     "output_type": "stream",
     "text": [
      "<class 'pandas.core.frame.DataFrame'>\n",
      "RangeIndex: 294478 entries, 0 to 294477\n",
      "Data columns (total 5 columns):\n",
      "user_id         294478 non-null int64\n",
      "timestamp       294478 non-null object\n",
      "group           294478 non-null object\n",
      "landing_page    294478 non-null object\n",
      "converted       294478 non-null int64\n",
      "dtypes: int64(2), object(3)\n",
      "memory usage: 11.2+ MB\n"
     ]
    }
   ],
   "source": [
    "df.info()"
   ]
  },
  {
   "cell_type": "code",
   "execution_count": 14,
   "metadata": {
    "colab": {
     "base_uri": "https://localhost:8080/",
     "height": 34
    },
    "colab_type": "code",
    "id": "sf0TJaFTKgXM",
    "outputId": "65d7d1fe-6c54-4e13-aa86-dbc3fe13a791"
   },
   "outputs": [
    {
     "name": "stdout",
     "output_type": "stream",
     "text": [
      "Proporsi pengguna converted adalah 11.94%\n"
     ]
    }
   ],
   "source": [
    "# Melakukan pengecekan pada proporsi pengguna yang converted\n",
    "p= df.query('converted == 1').user_id.nunique()/df.shape[0]\n",
    "print(\"Proporsi pengguna converted adalah {0:.2%}\".format(p))"
   ]
  },
  {
   "cell_type": "code",
   "execution_count": 15,
   "metadata": {
    "colab": {
     "base_uri": "https://localhost:8080/",
     "height": 34
    },
    "colab_type": "code",
    "id": "ymaoL5g4VTOG",
    "outputId": "31368f07-3d79-4ff5-85ea-ca5266345de1"
   },
   "outputs": [
    {
     "name": "stdout",
     "output_type": "stream",
     "text": [
      "Jumlah new_page & treatement yang tidak sesuai adalah 3893\n"
     ]
    }
   ],
   "source": [
    "# Periksa berapa kali halaman dan pengobatan yang baru tidak sejajar.\n",
    "l = df.query('(group == \"treatment\" and landing_page != \"new_page\" ) \\\n",
    "         or (group != \"treatment\" and landing_page == \"new_page\")').count()[0]\n",
    "print(\"Jumlah new_page & treatement yang tidak sesuai adalah {}\".format(l))"
   ]
  },
  {
   "cell_type": "code",
   "execution_count": 16,
   "metadata": {
    "colab": {
     "base_uri": "https://localhost:8080/",
     "height": 119
    },
    "colab_type": "code",
    "id": "X0iUpObZWbXW",
    "outputId": "ef17c332-314c-4e1a-961b-c5dfa4c15759"
   },
   "outputs": [
    {
     "data": {
      "text/plain": [
       "user_id         0\n",
       "timestamp       0\n",
       "group           0\n",
       "landing_page    0\n",
       "converted       0\n",
       "dtype: int64"
      ]
     },
     "execution_count": 16,
     "metadata": {},
     "output_type": "execute_result"
    }
   ],
   "source": [
    "# Melakukan pengecekan Missing Values\n",
    "df.isnull().sum()"
   ]
  },
  {
   "cell_type": "markdown",
   "metadata": {
    "colab_type": "text",
    "id": "wJNfqZofWo_T"
   },
   "source": [
    "> Untuk baris di mana **treatment** tidak selaras dengan **new_page** atau **kontrol** tidak selaras dengan **old_page**, maka tidak dapat memastikan apakah baris ini benar-benar menerima halaman baru atau lama. Jadi, disini akan melakukan drop baris-baris tersebut dan membuat kerangka data baru."
   ]
  },
  {
   "cell_type": "code",
   "execution_count": 17,
   "metadata": {
    "colab": {},
    "colab_type": "code",
    "id": "cmks6wkiWe-Q"
   },
   "outputs": [],
   "source": [
    "df2 = df.drop(df.query('(group == \"treatment\" and landing_page != \"new_page\" ) \\\n",
    "                      or (group != \"treatment\" and landing_page == \"new_page\") or (group == \"control\" and landing_page != \"old_page\") or (group != \"control\" and landing_page == \"old_page\")').index)"
   ]
  },
  {
   "cell_type": "code",
   "execution_count": 18,
   "metadata": {
    "colab": {
     "base_uri": "https://localhost:8080/",
     "height": 34
    },
    "colab_type": "code",
    "id": "f3KvvzLjXkMA",
    "outputId": "44887574-d52e-4a13-81e4-7234335d9b2e"
   },
   "outputs": [
    {
     "data": {
      "text/plain": [
       "0"
      ]
     },
     "execution_count": 18,
     "metadata": {},
     "output_type": "execute_result"
    }
   ],
   "source": [
    "# Melakukan pengecekan ulang apakah benar-benar baris yang tidak sesuai telah dihapus \n",
    "df2[((df2['group'] == 'treatment') == (df2['landing_page'] == 'new_page')) == False].shape[0]"
   ]
  },
  {
   "cell_type": "code",
   "execution_count": 19,
   "metadata": {
    "colab": {
     "base_uri": "https://localhost:8080/",
     "height": 34
    },
    "colab_type": "code",
    "id": "CZP1yyk1YXhq",
    "outputId": "6671ce87-613b-4a34-e2b5-d9d09186de42"
   },
   "outputs": [
    {
     "data": {
      "text/plain": [
       "290584"
      ]
     },
     "execution_count": 19,
     "metadata": {},
     "output_type": "execute_result"
    }
   ],
   "source": [
    "# Melakukan pengecekan unique user_ids pada df2\n",
    "df2.user_id.nunique()"
   ]
  },
  {
   "cell_type": "code",
   "execution_count": 20,
   "metadata": {
    "colab": {
     "base_uri": "https://localhost:8080/",
     "height": 204
    },
    "colab_type": "code",
    "id": "PNVPo2e5Yi4f",
    "outputId": "47558e30-9a1a-4f0f-a87d-a1c3b8615f90"
   },
   "outputs": [
    {
     "data": {
      "text/html": [
       "<div>\n",
       "<style scoped>\n",
       "    .dataframe tbody tr th:only-of-type {\n",
       "        vertical-align: middle;\n",
       "    }\n",
       "\n",
       "    .dataframe tbody tr th {\n",
       "        vertical-align: top;\n",
       "    }\n",
       "\n",
       "    .dataframe thead th {\n",
       "        text-align: right;\n",
       "    }\n",
       "</style>\n",
       "<table border=\"1\" class=\"dataframe\">\n",
       "  <thead>\n",
       "    <tr style=\"text-align: right;\">\n",
       "      <th></th>\n",
       "      <th>user_id</th>\n",
       "      <th>timestamp</th>\n",
       "      <th>group</th>\n",
       "      <th>landing_page</th>\n",
       "      <th>converted</th>\n",
       "    </tr>\n",
       "  </thead>\n",
       "  <tbody>\n",
       "    <tr>\n",
       "      <th>0</th>\n",
       "      <td>851104</td>\n",
       "      <td>2017-01-21 22:11:48.556739</td>\n",
       "      <td>control</td>\n",
       "      <td>old_page</td>\n",
       "      <td>0</td>\n",
       "    </tr>\n",
       "    <tr>\n",
       "      <th>1</th>\n",
       "      <td>804228</td>\n",
       "      <td>2017-01-12 08:01:45.159739</td>\n",
       "      <td>control</td>\n",
       "      <td>old_page</td>\n",
       "      <td>0</td>\n",
       "    </tr>\n",
       "    <tr>\n",
       "      <th>2</th>\n",
       "      <td>661590</td>\n",
       "      <td>2017-01-11 16:55:06.154213</td>\n",
       "      <td>treatment</td>\n",
       "      <td>new_page</td>\n",
       "      <td>0</td>\n",
       "    </tr>\n",
       "    <tr>\n",
       "      <th>3</th>\n",
       "      <td>853541</td>\n",
       "      <td>2017-01-08 18:28:03.143765</td>\n",
       "      <td>treatment</td>\n",
       "      <td>new_page</td>\n",
       "      <td>0</td>\n",
       "    </tr>\n",
       "    <tr>\n",
       "      <th>4</th>\n",
       "      <td>864975</td>\n",
       "      <td>2017-01-21 01:52:26.210827</td>\n",
       "      <td>control</td>\n",
       "      <td>old_page</td>\n",
       "      <td>1</td>\n",
       "    </tr>\n",
       "  </tbody>\n",
       "</table>\n",
       "</div>"
      ],
      "text/plain": [
       "   user_id                   timestamp      group landing_page  converted\n",
       "0   851104  2017-01-21 22:11:48.556739    control     old_page          0\n",
       "1   804228  2017-01-12 08:01:45.159739    control     old_page          0\n",
       "2   661590  2017-01-11 16:55:06.154213  treatment     new_page          0\n",
       "3   853541  2017-01-08 18:28:03.143765  treatment     new_page          0\n",
       "4   864975  2017-01-21 01:52:26.210827    control     old_page          1"
      ]
     },
     "execution_count": 20,
     "metadata": {},
     "output_type": "execute_result"
    }
   ],
   "source": [
    "df2.head()"
   ]
  },
  {
   "cell_type": "code",
   "execution_count": 71,
   "metadata": {
    "colab": {
     "base_uri": "https://localhost:8080/",
     "height": 364
    },
    "colab_type": "code",
    "id": "9EPEMOfxYk-8",
    "outputId": "4daf28dd-b120-4fb8-f4b2-00c4c6d58cb2"
   },
   "outputs": [
    {
     "data": {
      "image/png": "[encoded data removed]",
      "text/plain": [
       "<matplotlib.figure.Figure at 0x208239763c8>"
      ]
     },
     "metadata": {},
     "output_type": "display_data"
    }
   ],
   "source": [
    "# Proporsi item landing_page pada data\n",
    "f=plt.figure(figsize=(10,4))\n",
    "f.add_subplot(1,2,1)\n",
    "df['landing_page'].value_counts().plot(kind='bar');\n",
    "f.add_subplot(1,2,2)\n",
    "df['landing_page'].value_counts().plot(kind='pie', autopct='%.2f');"
   ]
  },
  {
   "cell_type": "code",
   "execution_count": 22,
   "metadata": {
    "colab": {
     "base_uri": "https://localhost:8080/",
     "height": 34
    },
    "colab_type": "code",
    "id": "0p7X5Xz0comD",
    "outputId": "27b17872-afd4-4093-ff2a-7437703c1667"
   },
   "outputs": [
    {
     "data": {
      "text/plain": [
       "1"
      ]
     },
     "execution_count": 22,
     "metadata": {},
     "output_type": "execute_result"
    }
   ],
   "source": [
    "# Melakukan pengecekan pada baris yang terduplikat\n",
    "df2.user_id.duplicated().sum()"
   ]
  },
  {
   "cell_type": "code",
   "execution_count": 23,
   "metadata": {
    "colab": {
     "base_uri": "https://localhost:8080/",
     "height": 34
    },
    "colab_type": "code",
    "id": "Hc5bqOfCYq4v",
    "outputId": "ba408a64-2bfb-4955-8cc7-3454c6d8f4df"
   },
   "outputs": [
    {
     "name": "stdout",
     "output_type": "stream",
     "text": [
      "User ID yang terulang adalah user_id 773192\n"
     ]
    }
   ],
   "source": [
    "# Melakukan pengecekan pada user_id yang berulang\n",
    "df2[df2.duplicated(['user_id'],keep=False)]['user_id']\n",
    "print(\"User ID yang terulang adalah user_id 773192\")"
   ]
  },
  {
   "cell_type": "code",
   "execution_count": 24,
   "metadata": {
    "colab": {
     "base_uri": "https://localhost:8080/",
     "height": 111
    },
    "colab_type": "code",
    "id": "jd-kMBLieNwx",
    "outputId": "5b7e154b-e95a-4f6a-f1a0-3e95c64e8155"
   },
   "outputs": [
    {
     "data": {
      "text/html": [
       "<div>\n",
       "<style scoped>\n",
       "    .dataframe tbody tr th:only-of-type {\n",
       "        vertical-align: middle;\n",
       "    }\n",
       "\n",
       "    .dataframe tbody tr th {\n",
       "        vertical-align: top;\n",
       "    }\n",
       "\n",
       "    .dataframe thead th {\n",
       "        text-align: right;\n",
       "    }\n",
       "</style>\n",
       "<table border=\"1\" class=\"dataframe\">\n",
       "  <thead>\n",
       "    <tr style=\"text-align: right;\">\n",
       "      <th></th>\n",
       "      <th>user_id</th>\n",
       "      <th>timestamp</th>\n",
       "      <th>group</th>\n",
       "      <th>landing_page</th>\n",
       "      <th>converted</th>\n",
       "    </tr>\n",
       "  </thead>\n",
       "  <tbody>\n",
       "    <tr>\n",
       "      <th>1899</th>\n",
       "      <td>773192</td>\n",
       "      <td>2017-01-09 05:37:58.781806</td>\n",
       "      <td>treatment</td>\n",
       "      <td>new_page</td>\n",
       "      <td>0</td>\n",
       "    </tr>\n",
       "    <tr>\n",
       "      <th>2893</th>\n",
       "      <td>773192</td>\n",
       "      <td>2017-01-14 02:55:59.590927</td>\n",
       "      <td>treatment</td>\n",
       "      <td>new_page</td>\n",
       "      <td>0</td>\n",
       "    </tr>\n",
       "  </tbody>\n",
       "</table>\n",
       "</div>"
      ],
      "text/plain": [
       "      user_id                   timestamp      group landing_page  converted\n",
       "1899   773192  2017-01-09 05:37:58.781806  treatment     new_page          0\n",
       "2893   773192  2017-01-14 02:55:59.590927  treatment     new_page          0"
      ]
     },
     "execution_count": 24,
     "metadata": {},
     "output_type": "execute_result"
    }
   ],
   "source": [
    "# Melakukan pengecekan informasi baris untuk user_id yang berulang\n",
    "df2.query('user_id == 773192')"
   ]
  },
  {
   "cell_type": "code",
   "execution_count": 25,
   "metadata": {
    "colab": {},
    "colab_type": "code",
    "id": "poJqSsaKkalY"
   },
   "outputs": [],
   "source": [
    "# Menghapus salah satu baris yang berulang\n",
    "df2 = df2.drop(df2.query('user_id == 773192 and timestamp == \"2017-01-09 05:37:58.781806\"').index)"
   ]
  },
  {
   "cell_type": "code",
   "execution_count": 26,
   "metadata": {
    "colab": {
     "base_uri": "https://localhost:8080/",
     "height": 34
    },
    "colab_type": "code",
    "id": "P1ZzjrszlOKt",
    "outputId": "651e211e-08e7-4072-fe5c-7792489e3516"
   },
   "outputs": [
    {
     "data": {
      "text/plain": [
       "0"
      ]
     },
     "execution_count": 26,
     "metadata": {},
     "output_type": "execute_result"
    }
   ],
   "source": [
    "# Melakukan pengecekan kembali pada user_id yang berulang\n",
    "df2.user_id.duplicated().sum()"
   ]
  },
  {
   "cell_type": "code",
   "execution_count": 72,
   "metadata": {},
   "outputs": [
    {
     "data": {
      "image/png": "[encoded data removed]",
      "text/plain": [
       "<matplotlib.figure.Figure at 0x20823a06c18>"
      ]
     },
     "metadata": {},
     "output_type": "display_data"
    }
   ],
   "source": [
    "# Proporsi item landing_page pada data yang telah siap diolah\n",
    "f=plt.figure(figsize=(10,4))\n",
    "f.add_subplot(1,2,1)\n",
    "df2['landing_page'].value_counts().plot(kind='bar');\n",
    "f.add_subplot(1,2,2)\n",
    "df2['landing_page'].value_counts().plot(kind='pie', autopct='%.2f');"
   ]
  },
  {
   "cell_type": "markdown",
   "metadata": {},
   "source": [
    "<a id='probability'></a>\n",
    "## 3. Probabilitas\n",
    "\n",
    "> Sebelum melakukan *AB Testing*, untuk mengetahui pengguna pada *Control Group* ataupun pada *Treatement Group* apakah sudah memilih tampilan web yang sesuai dengan tampilan awal ataupun berpaling dari tampilan web yang dihadapkan dapat dilihat berdasarkan probabilitas dari masing-masing karakteristik yang diinginkan."
   ]
  },
  {
   "cell_type": "code",
   "execution_count": 27,
   "metadata": {
    "colab": {
     "base_uri": "https://localhost:8080/",
     "height": 34
    },
    "colab_type": "code",
    "id": "Vgskd-KBlcOO",
    "outputId": "6ae776fc-d489-49c9-950a-20125380b0be"
   },
   "outputs": [
    {
     "name": "stdout",
     "output_type": "stream",
     "text": [
      "Probabilitas seseorang yang tidak memilih halaman berdasarkan halaman yang diterima (converted) adalah 11.96%\n"
     ]
    }
   ],
   "source": [
    "# Menghitung probabilitas setiap pengguna dengan converted = 1 \n",
    "df_prob =df2.query('converted == 1').user_id.nunique()/df2.user_id.nunique()\n",
    "df_prob\n",
    "\n",
    "print(\"Probabilitas seseorang yang tidak memilih halaman berdasarkan halaman yang diterima (converted) adalah {0:.2%}\".format(df_prob))"
   ]
  },
  {
   "cell_type": "code",
   "execution_count": 28,
   "metadata": {
    "colab": {
     "base_uri": "https://localhost:8080/",
     "height": 34
    },
    "colab_type": "code",
    "id": "G5p6HcwMFcnF",
    "outputId": "312649c3-6c97-4caf-8c07-5c7659a48c82"
   },
   "outputs": [
    {
     "name": "stdout",
     "output_type": "stream",
     "text": [
      "Probabilitas pengguna yang berada dalam control group dan terconvert adalah 12.04%\n"
     ]
    }
   ],
   "source": [
    "# Menghitung probabilitas pengguna yang berada dalam control group dan terconvert\n",
    "p_cont = df2.query('converted == 1 and group == \"control\"').user_id.nunique() \\\n",
    "/df2.query('group == \"control\"').user_id.nunique()\n",
    "\n",
    "print(\"Probabilitas pengguna yang berada dalam control group dan terconvert adalah {0:.2%}\".format(p_cont))"
   ]
  },
  {
   "cell_type": "code",
   "execution_count": 29,
   "metadata": {
    "colab": {
     "base_uri": "https://localhost:8080/",
     "height": 34
    },
    "colab_type": "code",
    "id": "gzRHVys2FiiT",
    "outputId": "25cbaba9-59a8-4c13-afe1-bbd402140c19"
   },
   "outputs": [
    {
     "name": "stdout",
     "output_type": "stream",
     "text": [
      "Probabilitas pengguna yang berada dalam treatement group dan terconvert adalah 11.88%\n"
     ]
    }
   ],
   "source": [
    "# Menghitung probabilitas pengguna yang berada dalam treatement group dan terconvert\n",
    "p_treat = df2.query('converted == 1 and group == \"treatment\"').user_id.nunique() \\\n",
    "/df2.query('group == \"treatment\"').user_id.nunique()\n",
    "\n",
    "print(\"Probabilitas pengguna yang berada dalam treatement group dan terconvert adalah {0:.2%}\".format(p_treat))"
   ]
  },
  {
   "cell_type": "code",
   "execution_count": 30,
   "metadata": {
    "colab": {
     "base_uri": "https://localhost:8080/",
     "height": 34
    },
    "colab_type": "code",
    "id": "zebwmoMBFkj_",
    "outputId": "fcffe780-2c36-4afc-850f-89a81cfb19cf"
   },
   "outputs": [
    {
     "name": "stdout",
     "output_type": "stream",
     "text": [
      "Probabilitas setiap individu mendapatkan halaman baru (new page) 50.01%\n"
     ]
    }
   ],
   "source": [
    "# Menghitung probabilitas pada saat setiap individu mendapatkan halaman baru (new page)\n",
    "p_n = df2.query('landing_page == \"new_page\"').user_id.nunique()/df2.user_id.nunique()\n",
    "\n",
    "print(\"Probabilitas setiap individu mendapatkan halaman baru (new page) {0:.2%}\".format(p_n))"
   ]
  },
  {
   "cell_type": "markdown",
   "metadata": {
    "colab_type": "text",
    "id": "U6nNpX9Kn8c2"
   },
   "source": [
    "> Berdasarkan hasil probabilitas, maka dapat diketahui bahwa tidak tidak ada cukup bukti untuk mengatakan bahwa pengguna pada group *new treatement* lebih banyak yang terconvert dibandingkan dengan pengguna pada group *page control*. Probabilitas pengguna yang berada dalam control group dan terconvert adalah 12,04% sedangkan pada kelompok *treatement* adalah 11,88%. Jika dilihat selisih dari kedua probabilitas tersebut maka dapat dikatakan sangat kecil, terutama pada saat membandingkannya dengan probabilitas seseorang yang tidak memilih halaman berdasarkan halaman yang diterima (11,96%)\n",
    ">."
   ]
  },
  {
   "cell_type": "markdown",
   "metadata": {
    "colab_type": "text",
    "id": "_sqx7F3FFr1i"
   },
   "source": [
    "<a id='install'></a>\n",
    "## 4. Analisis A/B Testing"
   ]
  },
  {
   "cell_type": "markdown",
   "metadata": {
    "colab_type": "text",
    "id": "cZVB-mMorqwZ"
   },
   "source": [
    "> Dikarenakan pada saat melihat probabilitas pengguna yang terconvert pada treatement group dan control group tidak memiliki perbedaan yang signifikan. Dan menjadikan tidak adanya bukti yang kuat untuk mengatakan pengguna pada *treatement group* lebih banyak tetap menggunakan web dengan tampilan baru atau berpaling pada web dengan tampilan sebelumnya.Maka selanjutnya dapat dilakukan tes hipotesis menggunakan A/B Testing yang dimana memperhatikan pengamatan berdasarkan waktu yang terkait dengan setiap peristiwa.\n",
    "<br>\n",
    "\n",
    ">Pada bagian ini akan mempertimbangkan untuk membuat keputusan hanya berdasarkan semua data yang disediakan. Selanjutnya yaitu mengasumsikan bahwa web dengan tampilan *old page* lebih baik dibandingkan dengan web dengan tampilan *new page*. Uji hipotesis yang digunakan untuk mengetahui bahwa pernyataan tersebut terbukti benar-benar lebih baik pada tingkat kesalahan tipe I 5%. Hipotesis nol dan alternatif mengikuti dapat dijelasakn sebagai berikut:"
   ]
  },
  {
   "cell_type": "markdown",
   "metadata": {},
   "source": [
    "**Hypothesis**\n",
    "* $H_{0}$: $P_{new}$-$P_{old}$ $<=$ $0$\n",
    "* $H_{1}$: $P_{old}$ - $P_{new}$ $>$ $0$\n",
    "\n"
   ]
  },
  {
   "cell_type": "code",
   "execution_count": 31,
   "metadata": {
    "colab": {
     "base_uri": "https://localhost:8080/",
     "height": 34
    },
    "colab_type": "code",
    "id": "f1eJDLYDwkYB",
    "outputId": "1c6e0eef-5369-4abc-ee6b-9f017dd709fb"
   },
   "outputs": [
    {
     "name": "stdout",
     "output_type": "stream",
     "text": [
      "Tingkat konversi untuk P_new di bawah nol adalah 0.1196\n"
     ]
    }
   ],
   "source": [
    "# Karena P_new dan P_old keduanya memiliki tingkat keberhasilan \"benar\" yang sama\n",
    "p_new = df2.converted.mean()\n",
    "print(\"Tingkat konversi untuk P_new di bawah nol adalah {0:.4}\".format(p_new))"
   ]
  },
  {
   "cell_type": "code",
   "execution_count": 32,
   "metadata": {
    "colab": {
     "base_uri": "https://localhost:8080/",
     "height": 34
    },
    "colab_type": "code",
    "id": "1PA90ubm0kN7",
    "outputId": "b4185d5d-607d-4d70-93c7-4a52b7abfc1a"
   },
   "outputs": [
    {
     "name": "stdout",
     "output_type": "stream",
     "text": [
      "Tingkat konversi untuk P_old di bawah nol adalah 0.1196\n"
     ]
    }
   ],
   "source": [
    "p_old = df2.converted.mean()\n",
    "print(\"Tingkat konversi untuk P_old di bawah nol adalah {0:.4}\".format(p_old))"
   ]
  },
  {
   "cell_type": "code",
   "execution_count": 33,
   "metadata": {
    "colab": {
     "base_uri": "https://localhost:8080/",
     "height": 34
    },
    "colab_type": "code",
    "id": "ixhYBc3W2P1V",
    "outputId": "89bdb1c8-2dd9-4339-a8d8-c1a02af1f1d7"
   },
   "outputs": [
    {
     "data": {
      "text/plain": [
       "145310"
      ]
     },
     "execution_count": 33,
     "metadata": {},
     "output_type": "execute_result"
    }
   ],
   "source": [
    "# Menghitung total 'unique users' dengan halaman baru (new page)\n",
    "n_new = df2.query('landing_page == \"new_page\" ').count()[0]\n",
    "n_new"
   ]
  },
  {
   "cell_type": "code",
   "execution_count": 34,
   "metadata": {
    "colab": {
     "base_uri": "https://localhost:8080/",
     "height": 34
    },
    "colab_type": "code",
    "id": "UoFI_9nq2zkx",
    "outputId": "8f6c48c9-3a50-4779-87db-1f88fd163d74"
   },
   "outputs": [
    {
     "data": {
      "text/plain": [
       "145274"
      ]
     },
     "execution_count": 34,
     "metadata": {},
     "output_type": "execute_result"
    }
   ],
   "source": [
    "# Menghitung total 'unique users' dengan halaman lama (old page)\n",
    "n_old = df2.query('landing_page == \"old_page\" ').count()[0]\n",
    "n_old"
   ]
  },
  {
   "cell_type": "code",
   "execution_count": 35,
   "metadata": {
    "colab": {
     "base_uri": "https://localhost:8080/",
     "height": 34
    },
    "colab_type": "code",
    "id": "rUyNv5tG3Wy_",
    "outputId": "b2a3aa61-cfd6-4144-f938-90c9ba9d967e"
   },
   "outputs": [
    {
     "data": {
      "text/plain": [
       "array([1, 1, 0, ..., 0, 1, 0])"
      ]
     },
     "execution_count": 35,
     "metadata": {},
     "output_type": "execute_result"
    }
   ],
   "source": [
    "# Simulasikan transaksi n_new dengan tingkat konversi p_new di bawah nol\n",
    "new_page_converted = np.random.choice([0,1],n_new, p=(p_new,1-p_new))\n",
    "new_page_converted"
   ]
  },
  {
   "cell_type": "code",
   "execution_count": 36,
   "metadata": {
    "colab": {
     "base_uri": "https://localhost:8080/",
     "height": 34
    },
    "colab_type": "code",
    "id": "bsIY5Fm647ch",
    "outputId": "8db7d5b1-93db-4ef3-ce99-c83f6b3785cf"
   },
   "outputs": [
    {
     "data": {
      "text/plain": [
       "array([1, 0, 1, ..., 1, 1, 1])"
      ]
     },
     "execution_count": 36,
     "metadata": {},
     "output_type": "execute_result"
    }
   ],
   "source": [
    "# Simulasikan transaksi n_old dengan tingkat konversi p_old di bawah nol\n",
    "# Simpan n_new 1 dan 0 ini di old_page_converted\n",
    "old_page_converted = np.random.choice([0,1],n_old, p=(p_old,1-p_old))\n",
    "old_page_converted"
   ]
  },
  {
   "cell_type": "markdown",
   "metadata": {
    "colab_type": "text",
    "id": "8aTsc5KX50FD"
   },
   "source": [
    ">Menentukan perbedaan antara p_new dan p_old. Untuk menemukan perbedaan antara p_new dan p_old, perlu mencari tahu mean  dari new_page_converted dan old_page_converted."
   ]
  },
  {
   "cell_type": "code",
   "execution_count": 37,
   "metadata": {
    "colab": {
     "base_uri": "https://localhost:8080/",
     "height": 34
    },
    "colab_type": "code",
    "id": "1QzqXkaM5Ja-",
    "outputId": "69c03bc4-6045-4560-fe40-0b4b44048030"
   },
   "outputs": [
    {
     "data": {
      "text/plain": [
       "0.8804762232468516"
      ]
     },
     "execution_count": 37,
     "metadata": {},
     "output_type": "execute_result"
    }
   ],
   "source": [
    "new_page_converted.mean()"
   ]
  },
  {
   "cell_type": "code",
   "execution_count": 38,
   "metadata": {
    "colab": {
     "base_uri": "https://localhost:8080/",
     "height": 34
    },
    "colab_type": "code",
    "id": "C5od-hEP5ywt",
    "outputId": "6ab2bfe6-7630-4754-aa92-848b4ae5dd42"
   },
   "outputs": [
    {
     "data": {
      "text/plain": [
       "0.8802125638448725"
      ]
     },
     "execution_count": 38,
     "metadata": {},
     "output_type": "execute_result"
    }
   ],
   "source": [
    "old_page_converted.mean()"
   ]
  },
  {
   "cell_type": "markdown",
   "metadata": {
    "colab_type": "text",
    "id": "P_Z4ZCUq6mFC"
   },
   "source": [
    ">Untuk mengetahui perbedaan antara p_new dan p_old dapat menyelisihkan kedua nilai tersebut"
   ]
  },
  {
   "cell_type": "code",
   "execution_count": 39,
   "metadata": {
    "colab": {
     "base_uri": "https://localhost:8080/",
     "height": 34
    },
    "colab_type": "code",
    "id": "WIEFwaE46XvE",
    "outputId": "a5c641a9-477c-4715-befa-0e286921fb48"
   },
   "outputs": [
    {
     "data": {
      "text/plain": [
       "0.00026365940197914384"
      ]
     },
     "execution_count": 39,
     "metadata": {},
     "output_type": "execute_result"
    }
   ],
   "source": [
    "diff_conv = new_page_converted.mean() - old_page_converted.mean()\n",
    "diff_conv"
   ]
  },
  {
   "cell_type": "markdown",
   "metadata": {
    "colab_type": "text",
    "id": "AD-xyqL28usj"
   },
   "source": [
    ">Mensimulasikan 10.000 p_new - nilai p_old dengan binomial acak"
   ]
  },
  {
   "cell_type": "code",
   "execution_count": 40,
   "metadata": {
    "colab": {},
    "colab_type": "code",
    "id": "TEAHjXLJ7HBp"
   },
   "outputs": [],
   "source": [
    "new_converted_simulation = np.random.binomial(n_new, p_new,  10000)/n_new\n",
    "old_converted_simulation = np.random.binomial(n_old, p_old,  10000)/n_old\n",
    "p_diffs = new_converted_simulation - old_converted_simulation"
   ]
  },
  {
   "cell_type": "code",
   "execution_count": 41,
   "metadata": {
    "colab": {
     "base_uri": "https://localhost:8080/",
     "height": 269
    },
    "colab_type": "code",
    "id": "-z9GRgJo8zQE",
    "outputId": "c9043b21-81c5-4728-97cc-a8ce202cfbfd"
   },
   "outputs": [
    {
     "data": {
      "image/png": "[encoded data removed]",
      "text/plain": [
       "<matplotlib.figure.Figure at 0x2082241e5f8>"
      ]
     },
     "metadata": {},
     "output_type": "display_data"
    }
   ],
   "source": [
    "p_diffs = np.array(p_diffs)\n",
    "plt.hist(p_diffs);"
   ]
  },
  {
   "cell_type": "markdown",
   "metadata": {
    "colab_type": "text",
    "id": "yFzwTAbM8-y1"
   },
   "source": [
    "> Menghitung perbedaan nilai aktual yang diamati"
   ]
  },
  {
   "cell_type": "code",
   "execution_count": 42,
   "metadata": {
    "colab": {
     "base_uri": "https://localhost:8080/",
     "height": 34
    },
    "colab_type": "code",
    "id": "5quOBT5L8z1q",
    "outputId": "3fa7dbd2-39be-4ea7-ff72-8bf2b5694244"
   },
   "outputs": [
    {
     "data": {
      "text/plain": [
       "-0.0015782389853555567"
      ]
     },
     "execution_count": 42,
     "metadata": {},
     "output_type": "execute_result"
    }
   ],
   "source": [
    "new_convert = df2.query('converted == 1 and landing_page == \"new_page\"').count()[0]/n_new\n",
    "old_convert = df2.query('converted == 1 and landing_page == \"old_page\"').count()[0]/n_old\n",
    "obs_diff = new_convert - old_convert\n",
    "obs_diff"
   ]
  },
  {
   "cell_type": "code",
   "execution_count": 43,
   "metadata": {
    "colab": {},
    "colab_type": "code",
    "id": "3j4en_XY9UWF"
   },
   "outputs": [],
   "source": [
    "# Check the proportion of the p_diffs are greater than the actual difference observed in ab_data.\n",
    "# Periksa proporsi p_diffs lebih besar dari perbedaan aktual yang diamati pada ab_data.\n",
    "null_vals = np.random.normal(0, p_diffs.std(), p_diffs.size)"
   ]
  },
  {
   "cell_type": "code",
   "execution_count": 44,
   "metadata": {
    "colab": {
     "base_uri": "https://localhost:8080/",
     "height": 286
    },
    "colab_type": "code",
    "id": "_mymfYqQ9m4o",
    "outputId": "278c13c7-98a9-481a-a6d9-cc688be0f9c6"
   },
   "outputs": [
    {
     "data": {
      "text/plain": [
       "<matplotlib.lines.Line2D at 0x208224d6550>"
      ]
     },
     "execution_count": 44,
     "metadata": {},
     "output_type": "execute_result"
    },
    {
     "data": {
      "image/png": "[encoded data removed]",
      "text/plain": [
       "<matplotlib.figure.Figure at 0x208224d6ac8>"
      ]
     },
     "metadata": {},
     "output_type": "display_data"
    }
   ],
   "source": [
    "plt.hist(null_vals);\n",
    "plt.axvline(x=obs_diff, color='red')"
   ]
  },
  {
   "cell_type": "code",
   "execution_count": 45,
   "metadata": {
    "colab": {
     "base_uri": "https://localhost:8080/",
     "height": 34
    },
    "colab_type": "code",
    "id": "Td8e5KLn9o66",
    "outputId": "f95e7e3d-9005-42d4-eed4-516ffa806173"
   },
   "outputs": [
    {
     "data": {
      "text/plain": [
       "0.9076"
      ]
     },
     "execution_count": 45,
     "metadata": {},
     "output_type": "execute_result"
    }
   ],
   "source": [
    "(null_vals > obs_diff).mean()"
   ]
  },
  {
   "cell_type": "markdown",
   "metadata": {
    "colab_type": "text",
    "id": "pLIgpDwO96yz"
   },
   "source": [
    "> Sampling distribution analysis :\n",
    "- Proporsi perbedaan tingkat konversi lebih besar daripada perbedaan yang diamati sebenarnya. Nilai p sangat besar (90%) dari pada tingkat kesalahan tipe I (5%). Itu berarti keputusan \"Gagal Tolak H0\".\n",
    "- Ketika nilai-p rendah (dalam analisis kali ini kurang dari 5%), hal tersebut menunjukkan bahwa hipotesis Gagal Tolak H0, sehingga perlu mempertimbangkan hipotesis alternatif. Akhirnya, nilai p 90% menunjukkan bahwa halaman sebenarnya harus dipertahankan."
   ]
  },
  {
   "cell_type": "code",
   "execution_count": 46,
   "metadata": {
    "colab": {},
    "colab_type": "code",
    "id": "17EAz7Ps9wOA"
   },
   "outputs": [],
   "source": [
    "convert_old = df2.query('converted == 1 and landing_page == \"old_page\"').count()[0]\n",
    "convert_new = df2.query('converted == 1 and landing_page == \"new_page\"').count()[0]\n",
    "n_old = df2.query('landing_page == \"old_page\" ').count()[0]\n",
    "n_new = df2.query('landing_page == \"new_page\" ').count()[0]"
   ]
  },
  {
   "cell_type": "code",
   "execution_count": 47,
   "metadata": {
    "colab": {
     "base_uri": "https://localhost:8080/",
     "height": 34
    },
    "colab_type": "code",
    "id": "F_s-va7a9349",
    "outputId": "db201d99-0a2d-47ba-d02a-4355c8876901"
   },
   "outputs": [
    {
     "data": {
      "text/plain": [
       "(17489, 17264, 145274, 145310)"
      ]
     },
     "execution_count": 47,
     "metadata": {},
     "output_type": "execute_result"
    }
   ],
   "source": [
    "convert_old,convert_new,n_old,n_new"
   ]
  },
  {
   "cell_type": "code",
   "execution_count": 48,
   "metadata": {
    "colab": {},
    "colab_type": "code",
    "id": "W5AyKr-0-M_R"
   },
   "outputs": [],
   "source": [
    "z_score, p_value = sm.stats.proportions_ztest(np.array([convert_new,convert_old]),\\\n",
    "                                              np.array([n_new,n_old]), alternative = 'larger')"
   ]
  },
  {
   "cell_type": "code",
   "execution_count": 49,
   "metadata": {
    "colab": {
     "base_uri": "https://localhost:8080/",
     "height": 34
    },
    "colab_type": "code",
    "id": "qrMf52c_9rJy",
    "outputId": "56b8eb3f-1a08-4102-8740-b41995a6f7f3"
   },
   "outputs": [
    {
     "data": {
      "text/plain": [
       "(-1.3109241984234394, 0.9050583127590245)"
      ]
     },
     "execution_count": 49,
     "metadata": {},
     "output_type": "execute_result"
    }
   ],
   "source": [
    "z_score, p_value"
   ]
  },
  {
   "cell_type": "code",
   "execution_count": 52,
   "metadata": {
    "colab": {
     "base_uri": "https://localhost:8080/",
     "height": 34
    },
    "colab_type": "code",
    "id": "Disxiysj-Q1_",
    "outputId": "234ea815-563f-4f98-905f-30566d1240be"
   },
   "outputs": [
    {
     "data": {
      "text/plain": [
       "0.09494168724097551"
      ]
     },
     "execution_count": 52,
     "metadata": {},
     "output_type": "execute_result"
    }
   ],
   "source": [
    "norm.cdf(z_score)"
   ]
  },
  {
   "cell_type": "code",
   "execution_count": 53,
   "metadata": {
    "colab": {
     "base_uri": "https://localhost:8080/",
     "height": 34
    },
    "colab_type": "code",
    "id": "KwXpByTS-UKo",
    "outputId": "8fa47926-ed99-4e05-970c-af0017f2b370"
   },
   "outputs": [
    {
     "data": {
      "text/plain": [
       "1.959963984540054"
      ]
     },
     "execution_count": 53,
     "metadata": {},
     "output_type": "execute_result"
    }
   ],
   "source": [
    "norm.ppf(1-(0.05/2))"
   ]
  },
  {
   "cell_type": "code",
   "execution_count": 68,
   "metadata": {},
   "outputs": [],
   "source": [
    "def Z_test(convert_new,convert_old):\n",
    "    z_score, p_value = sm.stats.proportions_ztest(np.array([convert_new,convert_old]),\\\n",
    "                                              np.array([n_new,n_old]), alternative = 'larger')\n",
    "    ztabel=norm.ppf(1-(0.05/2))\n",
    "    Keputusan1='Tolak H0'\n",
    "    Keputusan2='Gagal Tolak H0'\n",
    "    Keputusan= Keputusan1 if p_value<0.05 else Keputusan2\n",
    "    \n",
    "    tabel=pd.DataFrame()\n",
    "    tabel['Z_Score']=[z_score]\n",
    "    tabel['P-Value']=[p_value]\n",
    "    tabel['Z-Tabel']=[ztabel]\n",
    "    tabel['Keputusan']=[Keputusan]\n",
    "    return tabel"
   ]
  },
  {
   "cell_type": "code",
   "execution_count": 69,
   "metadata": {},
   "outputs": [
    {
     "data": {
      "text/html": [
       "<div>\n",
       "<style scoped>\n",
       "    .dataframe tbody tr th:only-of-type {\n",
       "        vertical-align: middle;\n",
       "    }\n",
       "\n",
       "    .dataframe tbody tr th {\n",
       "        vertical-align: top;\n",
       "    }\n",
       "\n",
       "    .dataframe thead th {\n",
       "        text-align: right;\n",
       "    }\n",
       "</style>\n",
       "<table border=\"1\" class=\"dataframe\">\n",
       "  <thead>\n",
       "    <tr style=\"text-align: right;\">\n",
       "      <th></th>\n",
       "      <th>Z_Score</th>\n",
       "      <th>P-Value</th>\n",
       "      <th>Z-Tabel</th>\n",
       "      <th>Keputusan</th>\n",
       "    </tr>\n",
       "  </thead>\n",
       "  <tbody>\n",
       "    <tr>\n",
       "      <th>0</th>\n",
       "      <td>-1.310924</td>\n",
       "      <td>0.905058</td>\n",
       "      <td>1.959964</td>\n",
       "      <td>Gagal Tolak H0</td>\n",
       "    </tr>\n",
       "  </tbody>\n",
       "</table>\n",
       "</div>"
      ],
      "text/plain": [
       "    Z_Score   P-Value   Z-Tabel       Keputusan\n",
       "0 -1.310924  0.905058  1.959964  Gagal Tolak H0"
      ]
     },
     "execution_count": 69,
     "metadata": {},
     "output_type": "execute_result"
    }
   ],
   "source": [
    "Z_test(convert_new,convert_old)"
   ]
  },
  {
   "cell_type": "markdown",
   "metadata": {
    "colab": {},
    "colab_type": "code",
    "id": "HGzpKw7b-ZRo"
   },
   "source": [
    "## 5. Kesimpulan"
   ]
  },
  {
   "cell_type": "markdown",
   "metadata": {
    "colab_type": "text",
    "id": "NJ1PScsP-Yn_"
   },
   "source": [
    "> Berdasarkan uji statistika menggunakan A/B Testing menunjukkan z-score (z-hitung) sebesar 1,31 sedangkan nilai z-tabel sebesar 1,96, maka dapat diketahui bahwa nilai z-hitung (1,31) < z-tabel (1,96) sehingga keputusan yang diperoleh yaitu Gagal Tolak H0. Maka dapat disimpulkan bahwa tingkat converted *old page* atau web dengan tampilan lama lebih besar atau sama dengan tingkat konversi halaman baru. Selain itu, tidak ada perbedaan yang signifikan antara tingkat konversi halaman baru dan tingkat konversi halaman lama (> 0,15%).\n",
    "\n",
    "Referensi : \n",
    "> https://www.optimizely.com/optimization-glossary/ab-testing/#targetText=AB%20testing%20is%20essentially%20an,for%20a%20given%20conversion%20goal"
   ]
  },
  {
   "cell_type": "code",
   "execution_count": null,
   "metadata": {},
   "outputs": [],
   "source": []
  }
 ],
 "metadata": {
  "colab": {
   "collapsed_sections": [],
   "name": "Practice_4_A/B Testing.ipynb",
   "provenance": []
  },
  "kernelspec": {
   "display_name": "Python 3",
   "language": "python",
   "name": "python3"
  },
  "language_info": {
   "codemirror_mode": {
    "name": "ipython",
    "version": 3
   },
   "file_extension": ".py",
   "mimetype": "text/x-python",
   "name": "python",
   "nbconvert_exporter": "python",
   "pygments_lexer": "ipython3",
   "version": "3.6.4"
  }
 },
 "nbformat": 4,
 "nbformat_minor": 1
}
